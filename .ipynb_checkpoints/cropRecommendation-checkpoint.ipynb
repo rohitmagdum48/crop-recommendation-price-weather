{
 "cells": [
  {
   "cell_type": "markdown",
   "id": "5f385bea",
   "metadata": {
    "papermill": {
     "duration": 0.018557,
     "end_time": "2023-12-22T12:03:53.239481",
     "exception": false,
     "start_time": "2023-12-22T12:03:53.220924",
     "status": "completed"
    },
    "tags": []
   },
   "source": [
    "## Crop Recommendation"
   ]
  },
  {
   "cell_type": "markdown",
   "id": "0b2f747e",
   "metadata": {
    "papermill": {
     "duration": 0.01765,
     "end_time": "2023-12-22T12:03:53.311207",
     "exception": false,
     "start_time": "2023-12-22T12:03:53.293557",
     "status": "completed"
    },
    "tags": []
   },
   "source": [
    "## Import Libraries"
   ]
  },
  {
   "cell_type": "code",
   "execution_count": 4,
   "id": "4af7355e",
   "metadata": {
    "execution": {
     "iopub.execute_input": "2023-12-22T12:03:53.350049Z",
     "iopub.status.busy": "2023-12-22T12:03:53.349636Z",
     "iopub.status.idle": "2023-12-22T12:03:55.707451Z",
     "shell.execute_reply": "2023-12-22T12:03:55.706210Z"
    },
    "papermill": {
     "duration": 2.379984,
     "end_time": "2023-12-22T12:03:55.710072",
     "exception": false,
     "start_time": "2023-12-22T12:03:53.330088",
     "status": "completed"
    },
    "tags": []
   },
   "outputs": [],
   "source": [
    "import numpy as np\n",
    "import pandas as pd\n",
    "import matplotlib.pyplot as plt\n",
    "import seaborn as sns\n",
    "\n",
    "from sklearn.metrics import confusion_matrix,classification_report,accuracy_score\n",
    "from sklearn.model_selection import train_test_split, GridSearchCV,RandomizedSearchCV\n",
    "from sklearn.preprocessing import StandardScaler,MinMaxScaler\n",
    "from sklearn.preprocessing import OrdinalEncoder,LabelEncoder,OneHotEncoder\n",
    "\n",
    "from sklearn.linear_model import LogisticRegression\n",
    "from sklearn.tree import DecisionTreeClassifier\n",
    "from sklearn.neighbors import KNeighborsClassifier\n",
    "from sklearn.svm import SVC\n",
    "from sklearn.ensemble import RandomForestClassifier,AdaBoostClassifier,GradientBoostingClassifier\n"
   ]
  },
  {
   "cell_type": "markdown",
   "id": "a2e71a04",
   "metadata": {
    "papermill": {
     "duration": 0.018495,
     "end_time": "2023-12-22T12:03:55.747095",
     "exception": false,
     "start_time": "2023-12-22T12:03:55.728600",
     "status": "completed"
    },
    "tags": []
   },
   "source": [
    "## Load Data"
   ]
  },
  {
   "cell_type": "code",
   "execution_count": 5,
   "id": "2f868f9a",
   "metadata": {
    "execution": {
     "iopub.execute_input": "2023-12-22T12:03:55.785794Z",
     "iopub.status.busy": "2023-12-22T12:03:55.785176Z",
     "iopub.status.idle": "2023-12-22T12:03:55.839600Z",
     "shell.execute_reply": "2023-12-22T12:03:55.838787Z"
    },
    "papermill": {
     "duration": 0.076444,
     "end_time": "2023-12-22T12:03:55.841825",
     "exception": false,
     "start_time": "2023-12-22T12:03:55.765381",
     "status": "completed"
    },
    "tags": []
   },
   "outputs": [],
   "source": [
    "df = pd.read_csv('cropRecommendation.csv')"
   ]
  },
  {
   "cell_type": "code",
   "execution_count": 7,
   "id": "7dc27b71",
   "metadata": {},
   "outputs": [
    {
     "data": {
      "text/html": [
       "<div>\n",
       "<style scoped>\n",
       "    .dataframe tbody tr th:only-of-type {\n",
       "        vertical-align: middle;\n",
       "    }\n",
       "\n",
       "    .dataframe tbody tr th {\n",
       "        vertical-align: top;\n",
       "    }\n",
       "\n",
       "    .dataframe thead th {\n",
       "        text-align: right;\n",
       "    }\n",
       "</style>\n",
       "<table border=\"1\" class=\"dataframe\">\n",
       "  <thead>\n",
       "    <tr style=\"text-align: right;\">\n",
       "      <th></th>\n",
       "      <th>N</th>\n",
       "      <th>P</th>\n",
       "      <th>K</th>\n",
       "      <th>temperature</th>\n",
       "      <th>humidity</th>\n",
       "      <th>ph</th>\n",
       "      <th>rainfall</th>\n",
       "      <th>label</th>\n",
       "    </tr>\n",
       "  </thead>\n",
       "  <tbody>\n",
       "    <tr>\n",
       "      <th>0</th>\n",
       "      <td>90</td>\n",
       "      <td>42</td>\n",
       "      <td>43</td>\n",
       "      <td>20.879744</td>\n",
       "      <td>82.002744</td>\n",
       "      <td>6.502985</td>\n",
       "      <td>202.935536</td>\n",
       "      <td>rice</td>\n",
       "    </tr>\n",
       "    <tr>\n",
       "      <th>1</th>\n",
       "      <td>85</td>\n",
       "      <td>58</td>\n",
       "      <td>41</td>\n",
       "      <td>21.770462</td>\n",
       "      <td>80.319644</td>\n",
       "      <td>7.038096</td>\n",
       "      <td>226.655537</td>\n",
       "      <td>rice</td>\n",
       "    </tr>\n",
       "    <tr>\n",
       "      <th>2</th>\n",
       "      <td>60</td>\n",
       "      <td>55</td>\n",
       "      <td>44</td>\n",
       "      <td>23.004459</td>\n",
       "      <td>82.320763</td>\n",
       "      <td>7.840207</td>\n",
       "      <td>263.964248</td>\n",
       "      <td>rice</td>\n",
       "    </tr>\n",
       "    <tr>\n",
       "      <th>3</th>\n",
       "      <td>74</td>\n",
       "      <td>35</td>\n",
       "      <td>40</td>\n",
       "      <td>26.491096</td>\n",
       "      <td>80.158363</td>\n",
       "      <td>6.980401</td>\n",
       "      <td>242.864034</td>\n",
       "      <td>rice</td>\n",
       "    </tr>\n",
       "    <tr>\n",
       "      <th>4</th>\n",
       "      <td>78</td>\n",
       "      <td>42</td>\n",
       "      <td>42</td>\n",
       "      <td>20.130175</td>\n",
       "      <td>81.604873</td>\n",
       "      <td>7.628473</td>\n",
       "      <td>262.717340</td>\n",
       "      <td>rice</td>\n",
       "    </tr>\n",
       "  </tbody>\n",
       "</table>\n",
       "</div>"
      ],
      "text/plain": [
       "    N   P   K  temperature   humidity        ph    rainfall label\n",
       "0  90  42  43    20.879744  82.002744  6.502985  202.935536  rice\n",
       "1  85  58  41    21.770462  80.319644  7.038096  226.655537  rice\n",
       "2  60  55  44    23.004459  82.320763  7.840207  263.964248  rice\n",
       "3  74  35  40    26.491096  80.158363  6.980401  242.864034  rice\n",
       "4  78  42  42    20.130175  81.604873  7.628473  262.717340  rice"
      ]
     },
     "execution_count": 7,
     "metadata": {},
     "output_type": "execute_result"
    }
   ],
   "source": [
    "df.head()"
   ]
  },
  {
   "cell_type": "markdown",
   "id": "1d1b7dd0",
   "metadata": {
    "papermill": {
     "duration": 0.018762,
     "end_time": "2023-12-22T12:03:55.952941",
     "exception": false,
     "start_time": "2023-12-22T12:03:55.934179",
     "status": "completed"
    },
    "tags": []
   },
   "source": [
    "## EDA"
   ]
  },
  {
   "cell_type": "code",
   "execution_count": 8,
   "id": "7ca9772f",
   "metadata": {
    "execution": {
     "iopub.execute_input": "2023-12-22T12:03:55.991988Z",
     "iopub.status.busy": "2023-12-22T12:03:55.991215Z",
     "iopub.status.idle": "2023-12-22T12:03:56.019624Z",
     "shell.execute_reply": "2023-12-22T12:03:56.018458Z"
    },
    "papermill": {
     "duration": 0.05084,
     "end_time": "2023-12-22T12:03:56.022069",
     "exception": false,
     "start_time": "2023-12-22T12:03:55.971229",
     "status": "completed"
    },
    "tags": []
   },
   "outputs": [
    {
     "name": "stdout",
     "output_type": "stream",
     "text": [
      "<class 'pandas.core.frame.DataFrame'>\n",
      "RangeIndex: 2200 entries, 0 to 2199\n",
      "Data columns (total 8 columns):\n",
      " #   Column       Non-Null Count  Dtype  \n",
      "---  ------       --------------  -----  \n",
      " 0   N            2200 non-null   int64  \n",
      " 1   P            2200 non-null   int64  \n",
      " 2   K            2200 non-null   int64  \n",
      " 3   temperature  2200 non-null   float64\n",
      " 4   humidity     2200 non-null   float64\n",
      " 5   ph           2200 non-null   float64\n",
      " 6   rainfall     2200 non-null   float64\n",
      " 7   label        2200 non-null   object \n",
      "dtypes: float64(4), int64(3), object(1)\n",
      "memory usage: 137.6+ KB\n"
     ]
    }
   ],
   "source": [
    "df.info()"
   ]
  },
  {
   "cell_type": "code",
   "execution_count": 9,
   "id": "8f2df10d",
   "metadata": {
    "execution": {
     "iopub.execute_input": "2023-12-22T12:03:56.062587Z",
     "iopub.status.busy": "2023-12-22T12:03:56.061416Z",
     "iopub.status.idle": "2023-12-22T12:03:56.068512Z",
     "shell.execute_reply": "2023-12-22T12:03:56.067371Z"
    },
    "papermill": {
     "duration": 0.029797,
     "end_time": "2023-12-22T12:03:56.070964",
     "exception": false,
     "start_time": "2023-12-22T12:03:56.041167",
     "status": "completed"
    },
    "tags": []
   },
   "outputs": [
    {
     "data": {
      "text/plain": [
       "Index(['N', 'P', 'K', 'temperature', 'humidity', 'ph', 'rainfall', 'label'], dtype='object')"
      ]
     },
     "execution_count": 9,
     "metadata": {},
     "output_type": "execute_result"
    }
   ],
   "source": [
    "df.columns"
   ]
  },
  {
   "cell_type": "code",
   "execution_count": 10,
   "id": "0c9eaa9f",
   "metadata": {
    "execution": {
     "iopub.execute_input": "2023-12-22T12:03:56.168086Z",
     "iopub.status.busy": "2023-12-22T12:03:56.167617Z",
     "iopub.status.idle": "2023-12-22T12:03:56.175300Z",
     "shell.execute_reply": "2023-12-22T12:03:56.174236Z"
    },
    "papermill": {
     "duration": 0.030487,
     "end_time": "2023-12-22T12:03:56.177588",
     "exception": false,
     "start_time": "2023-12-22T12:03:56.147101",
     "status": "completed"
    },
    "tags": []
   },
   "outputs": [
    {
     "data": {
      "text/plain": [
       "array(['rice', 'maize', 'chickpea', 'kidneybeans', 'pigeonpeas',\n",
       "       'mothbeans', 'mungbean', 'blackgram', 'lentil', 'pomegranate',\n",
       "       'banana', 'mango', 'grapes', 'watermelon', 'muskmelon', 'apple',\n",
       "       'orange', 'papaya', 'coconut', 'cotton', 'jute', 'coffee'],\n",
       "      dtype=object)"
      ]
     },
     "execution_count": 10,
     "metadata": {},
     "output_type": "execute_result"
    }
   ],
   "source": [
    "df['label'].unique()"
   ]
  },
  {
   "cell_type": "code",
   "execution_count": 11,
   "id": "b1ed8445",
   "metadata": {
    "execution": {
     "iopub.execute_input": "2023-12-22T12:03:56.269971Z",
     "iopub.status.busy": "2023-12-22T12:03:56.269309Z",
     "iopub.status.idle": "2023-12-22T12:03:56.740383Z",
     "shell.execute_reply": "2023-12-22T12:03:56.739507Z"
    },
    "papermill": {
     "duration": 0.494559,
     "end_time": "2023-12-22T12:03:56.743294",
     "exception": false,
     "start_time": "2023-12-22T12:03:56.248735",
     "status": "completed"
    },
    "tags": []
   },
   "outputs": [
    {
     "data": {
      "image/png": "[encoded data removed]",
      "text/plain": [
       "<Figure size 1000x1000 with 1 Axes>"
      ]
     },
     "metadata": {},
     "output_type": "display_data"
    }
   ],
   "source": [
    "plt.figure(figsize=(10,10))\n",
    "df['label'].value_counts().plot(kind='pie',autopct=\"%.1f%%\")\n",
    "plt.show()"
   ]
  },
  {
   "cell_type": "code",
   "execution_count": 12,
   "id": "3b5f0a83",
   "metadata": {
    "execution": {
     "iopub.execute_input": "2023-12-22T12:03:56.789400Z",
     "iopub.status.busy": "2023-12-22T12:03:56.788374Z",
     "iopub.status.idle": "2023-12-22T12:03:57.141753Z",
     "shell.execute_reply": "2023-12-22T12:03:57.140625Z"
    },
    "papermill": {
     "duration": 0.378746,
     "end_time": "2023-12-22T12:03:57.144082",
     "exception": false,
     "start_time": "2023-12-22T12:03:56.765336",
     "status": "completed"
    },
    "tags": []
   },
   "outputs": [
    {
     "data": {
      "image/png": "[encoded data removed]",
      "text/plain": [
       "<Figure size 640x480 with 1 Axes>"
      ]
     },
     "metadata": {},
     "output_type": "display_data"
    }
   ],
   "source": [
    "sns.histplot(df['N'])\n",
    "plt.title('Histogram of Nitrogen')\n",
    "plt.show()"
   ]
  },
  {
   "cell_type": "code",
   "execution_count": 13,
   "id": "27176557",
   "metadata": {
    "execution": {
     "iopub.execute_input": "2023-12-22T12:03:57.190467Z",
     "iopub.status.busy": "2023-12-22T12:03:57.190011Z",
     "iopub.status.idle": "2023-12-22T12:03:57.528466Z",
     "shell.execute_reply": "2023-12-22T12:03:57.527263Z"
    },
    "papermill": {
     "duration": 0.364625,
     "end_time": "2023-12-22T12:03:57.531211",
     "exception": false,
     "start_time": "2023-12-22T12:03:57.166586",
     "status": "completed"
    },
    "tags": []
   },
   "outputs": [
    {
     "data": {
      "image/png": "[encoded data removed]",
      "text/plain": [
       "<Figure size 640x480 with 1 Axes>"
      ]
     },
     "metadata": {},
     "output_type": "display_data"
    }
   ],
   "source": [
    "sns.histplot(df['P'],color='Green')\n",
    "plt.title('Histogram of Phosphorous')\n",
    "plt.show()"
   ]
  },
  {
   "cell_type": "code",
   "execution_count": 14,
   "id": "568129c2",
   "metadata": {
    "execution": {
     "iopub.execute_input": "2023-12-22T12:03:57.577494Z",
     "iopub.status.busy": "2023-12-22T12:03:57.577123Z",
     "iopub.status.idle": "2023-12-22T12:03:57.966550Z",
     "shell.execute_reply": "2023-12-22T12:03:57.965630Z"
    },
    "papermill": {
     "duration": 0.415329,
     "end_time": "2023-12-22T12:03:57.968978",
     "exception": false,
     "start_time": "2023-12-22T12:03:57.553649",
     "status": "completed"
    },
    "tags": []
   },
   "outputs": [
    {
     "data": {
      "image/png": "[encoded data removed]",
      "text/plain": [
       "<Figure size 640x480 with 1 Axes>"
      ]
     },
     "metadata": {},
     "output_type": "display_data"
    }
   ],
   "source": [
    "sns.histplot(df['K'],color='Orange')\n",
    "plt.title('Histogram of Potassium')\n",
    "plt.show()"
   ]
  },
  {
   "cell_type": "code",
   "execution_count": 15,
   "id": "d0b37625",
   "metadata": {
    "execution": {
     "iopub.execute_input": "2023-12-22T12:03:58.015649Z",
     "iopub.status.busy": "2023-12-22T12:03:58.015255Z",
     "iopub.status.idle": "2023-12-22T12:03:58.428763Z",
     "shell.execute_reply": "2023-12-22T12:03:58.427939Z"
    },
    "papermill": {
     "duration": 0.440521,
     "end_time": "2023-12-22T12:03:58.431999",
     "exception": false,
     "start_time": "2023-12-22T12:03:57.991478",
     "status": "completed"
    },
    "tags": []
   },
   "outputs": [
    {
     "data": {
      "image/png": "[encoded data removed]",
      "text/plain": [
       "<Figure size 640x480 with 1 Axes>"
      ]
     },
     "metadata": {},
     "output_type": "display_data"
    }
   ],
   "source": [
    "sns.histplot(df['temperature'],color='Purple')\n",
    "plt.title('Histogram of Temperature')\n",
    "plt.show()"
   ]
  },
  {
   "cell_type": "code",
   "execution_count": 16,
   "id": "08af4595",
   "metadata": {
    "execution": {
     "iopub.execute_input": "2023-12-22T12:03:58.491367Z",
     "iopub.status.busy": "2023-12-22T12:03:58.490598Z",
     "iopub.status.idle": "2023-12-22T12:03:58.862106Z",
     "shell.execute_reply": "2023-12-22T12:03:58.860621Z"
    },
    "papermill": {
     "duration": 0.407427,
     "end_time": "2023-12-22T12:03:58.865946",
     "exception": false,
     "start_time": "2023-12-22T12:03:58.458519",
     "status": "completed"
    },
    "tags": []
   },
   "outputs": [
    {
     "data": {
      "image/png": "[encoded data removed]",
      "text/plain": [
       "<Figure size 640x480 with 1 Axes>"
      ]
     },
     "metadata": {},
     "output_type": "display_data"
    }
   ],
   "source": [
    "sns.histplot(df['humidity'],color='Yellow')\n",
    "plt.title('Histogram of Humidity')\n",
    "plt.show()"
   ]
  },
  {
   "cell_type": "code",
   "execution_count": 17,
   "id": "fe0f8ad6",
   "metadata": {
    "execution": {
     "iopub.execute_input": "2023-12-22T12:03:58.917328Z",
     "iopub.status.busy": "2023-12-22T12:03:58.916620Z",
     "iopub.status.idle": "2023-12-22T12:03:59.305449Z",
     "shell.execute_reply": "2023-12-22T12:03:59.304382Z"
    },
    "papermill": {
     "duration": 0.41627,
     "end_time": "2023-12-22T12:03:59.307751",
     "exception": false,
     "start_time": "2023-12-22T12:03:58.891481",
     "status": "completed"
    },
    "tags": []
   },
   "outputs": [
    {
     "data": {
      "image/png": "[encoded data removed]",
      "text/plain": [
       "<Figure size 640x480 with 1 Axes>"
      ]
     },
     "metadata": {},
     "output_type": "display_data"
    }
   ],
   "source": [
    "sns.histplot(df['ph'],color='Red')\n",
    "plt.title('Histogram of PH')\n",
    "plt.show()"
   ]
  },
  {
   "cell_type": "code",
   "execution_count": 18,
   "id": "9402bfde",
   "metadata": {
    "execution": {
     "iopub.execute_input": "2023-12-22T12:03:59.359194Z",
     "iopub.status.busy": "2023-12-22T12:03:59.358733Z",
     "iopub.status.idle": "2023-12-22T12:03:59.701171Z",
     "shell.execute_reply": "2023-12-22T12:03:59.700060Z"
    },
    "papermill": {
     "duration": 0.37159,
     "end_time": "2023-12-22T12:03:59.703634",
     "exception": false,
     "start_time": "2023-12-22T12:03:59.332044",
     "status": "completed"
    },
    "tags": []
   },
   "outputs": [
    {
     "data": {
      "image/png": "[encoded data removed]",
      "text/plain": [
       "<Figure size 640x480 with 1 Axes>"
      ]
     },
     "metadata": {},
     "output_type": "display_data"
    }
   ],
   "source": [
    "sns.histplot(df['rainfall'],color='Cyan')\n",
    "plt.title('Histogram of Rainfall')\n",
    "plt.show()"
   ]
  },
  {
   "cell_type": "markdown",
   "id": "a7a76fea",
   "metadata": {
    "papermill": {
     "duration": 0.028734,
     "end_time": "2023-12-22T12:04:05.146877",
     "exception": false,
     "start_time": "2023-12-22T12:04:05.118143",
     "status": "completed"
    },
    "tags": []
   },
   "source": [
    "## Target Column"
   ]
  },
  {
   "cell_type": "code",
   "execution_count": 19,
   "id": "010fa494",
   "metadata": {
    "execution": {
     "iopub.execute_input": "2023-12-22T12:04:05.207737Z",
     "iopub.status.busy": "2023-12-22T12:04:05.207003Z",
     "iopub.status.idle": "2023-12-22T12:04:05.214263Z",
     "shell.execute_reply": "2023-12-22T12:04:05.213240Z"
    },
    "papermill": {
     "duration": 0.040629,
     "end_time": "2023-12-22T12:04:05.216476",
     "exception": false,
     "start_time": "2023-12-22T12:04:05.175847",
     "status": "completed"
    },
    "tags": []
   },
   "outputs": [
    {
     "data": {
      "text/plain": [
       "['rice',\n",
       " 'maize',\n",
       " 'chickpea',\n",
       " 'kidneybeans',\n",
       " 'pigeonpeas',\n",
       " 'mothbeans',\n",
       " 'mungbean',\n",
       " 'blackgram',\n",
       " 'lentil',\n",
       " 'pomegranate',\n",
       " 'banana',\n",
       " 'mango',\n",
       " 'grapes',\n",
       " 'watermelon',\n",
       " 'muskmelon',\n",
       " 'apple',\n",
       " 'orange',\n",
       " 'papaya',\n",
       " 'coconut',\n",
       " 'cotton',\n",
       " 'jute',\n",
       " 'coffee']"
      ]
     },
     "execution_count": 19,
     "metadata": {},
     "output_type": "execute_result"
    }
   ],
   "source": [
    "class_labels = df['label'].unique().tolist()\n",
    "class_labels"
   ]
  },
  {
   "cell_type": "code",
   "execution_count": 20,
   "id": "2de30a7a",
   "metadata": {
    "execution": {
     "iopub.execute_input": "2023-12-22T12:04:05.276454Z",
     "iopub.status.busy": "2023-12-22T12:04:05.275728Z",
     "iopub.status.idle": "2023-12-22T12:04:05.281539Z",
     "shell.execute_reply": "2023-12-22T12:04:05.280762Z"
    },
    "papermill": {
     "duration": 0.038094,
     "end_time": "2023-12-22T12:04:05.283648",
     "exception": false,
     "start_time": "2023-12-22T12:04:05.245554",
     "status": "completed"
    },
    "tags": []
   },
   "outputs": [],
   "source": [
    "le = LabelEncoder()\n",
    "df['label'] = le.fit_transform(df['label'])"
   ]
  },
  {
   "cell_type": "code",
   "execution_count": 22,
   "id": "72bdac4b",
   "metadata": {
    "execution": {
     "iopub.execute_input": "2023-12-22T12:04:05.416616Z",
     "iopub.status.busy": "2023-12-22T12:04:05.415975Z",
     "iopub.status.idle": "2023-12-22T12:04:05.422514Z",
     "shell.execute_reply": "2023-12-22T12:04:05.421311Z"
    },
    "papermill": {
     "duration": 0.040712,
     "end_time": "2023-12-22T12:04:05.425182",
     "exception": false,
     "start_time": "2023-12-22T12:04:05.384470",
     "status": "completed"
    },
    "tags": []
   },
   "outputs": [
    {
     "data": {
      "text/plain": [
       "array(['apple', 'banana', 'blackgram', 'chickpea', 'coconut', 'coffee',\n",
       "       'cotton', 'grapes', 'jute', 'kidneybeans', 'lentil', 'maize',\n",
       "       'mango', 'mothbeans', 'mungbean', 'muskmelon', 'orange', 'papaya',\n",
       "       'pigeonpeas', 'pomegranate', 'rice', 'watermelon'], dtype=object)"
      ]
     },
     "execution_count": 22,
     "metadata": {},
     "output_type": "execute_result"
    }
   ],
   "source": [
    "class_labels = le.classes_\n",
    "class_labels"
   ]
  },
  {
   "cell_type": "code",
   "execution_count": 24,
   "id": "20a2d40d",
   "metadata": {
    "execution": {
     "iopub.execute_input": "2023-12-22T12:04:05.487506Z",
     "iopub.status.busy": "2023-12-22T12:04:05.486992Z",
     "iopub.status.idle": "2023-12-22T12:04:05.504878Z",
     "shell.execute_reply": "2023-12-22T12:04:05.503709Z"
    },
    "papermill": {
     "duration": 0.051629,
     "end_time": "2023-12-22T12:04:05.507182",
     "exception": false,
     "start_time": "2023-12-22T12:04:05.455553",
     "status": "completed"
    },
    "tags": []
   },
   "outputs": [
    {
     "data": {
      "text/html": [
       "<div>\n",
       "<style scoped>\n",
       "    .dataframe tbody tr th:only-of-type {\n",
       "        vertical-align: middle;\n",
       "    }\n",
       "\n",
       "    .dataframe tbody tr th {\n",
       "        vertical-align: top;\n",
       "    }\n",
       "\n",
       "    .dataframe thead th {\n",
       "        text-align: right;\n",
       "    }\n",
       "</style>\n",
       "<table border=\"1\" class=\"dataframe\">\n",
       "  <thead>\n",
       "    <tr style=\"text-align: right;\">\n",
       "      <th></th>\n",
       "      <th>N</th>\n",
       "      <th>P</th>\n",
       "      <th>K</th>\n",
       "      <th>temperature</th>\n",
       "      <th>humidity</th>\n",
       "      <th>ph</th>\n",
       "      <th>rainfall</th>\n",
       "      <th>label</th>\n",
       "    </tr>\n",
       "  </thead>\n",
       "  <tbody>\n",
       "    <tr>\n",
       "      <th>0</th>\n",
       "      <td>90</td>\n",
       "      <td>42</td>\n",
       "      <td>43</td>\n",
       "      <td>20.879744</td>\n",
       "      <td>82.002744</td>\n",
       "      <td>6.502985</td>\n",
       "      <td>202.935536</td>\n",
       "      <td>20</td>\n",
       "    </tr>\n",
       "    <tr>\n",
       "      <th>1</th>\n",
       "      <td>85</td>\n",
       "      <td>58</td>\n",
       "      <td>41</td>\n",
       "      <td>21.770462</td>\n",
       "      <td>80.319644</td>\n",
       "      <td>7.038096</td>\n",
       "      <td>226.655537</td>\n",
       "      <td>20</td>\n",
       "    </tr>\n",
       "    <tr>\n",
       "      <th>2</th>\n",
       "      <td>60</td>\n",
       "      <td>55</td>\n",
       "      <td>44</td>\n",
       "      <td>23.004459</td>\n",
       "      <td>82.320763</td>\n",
       "      <td>7.840207</td>\n",
       "      <td>263.964248</td>\n",
       "      <td>20</td>\n",
       "    </tr>\n",
       "    <tr>\n",
       "      <th>3</th>\n",
       "      <td>74</td>\n",
       "      <td>35</td>\n",
       "      <td>40</td>\n",
       "      <td>26.491096</td>\n",
       "      <td>80.158363</td>\n",
       "      <td>6.980401</td>\n",
       "      <td>242.864034</td>\n",
       "      <td>20</td>\n",
       "    </tr>\n",
       "    <tr>\n",
       "      <th>4</th>\n",
       "      <td>78</td>\n",
       "      <td>42</td>\n",
       "      <td>42</td>\n",
       "      <td>20.130175</td>\n",
       "      <td>81.604873</td>\n",
       "      <td>7.628473</td>\n",
       "      <td>262.717340</td>\n",
       "      <td>20</td>\n",
       "    </tr>\n",
       "  </tbody>\n",
       "</table>\n",
       "</div>"
      ],
      "text/plain": [
       "    N   P   K  temperature   humidity        ph    rainfall  label\n",
       "0  90  42  43    20.879744  82.002744  6.502985  202.935536     20\n",
       "1  85  58  41    21.770462  80.319644  7.038096  226.655537     20\n",
       "2  60  55  44    23.004459  82.320763  7.840207  263.964248     20\n",
       "3  74  35  40    26.491096  80.158363  6.980401  242.864034     20\n",
       "4  78  42  42    20.130175  81.604873  7.628473  262.717340     20"
      ]
     },
     "execution_count": 24,
     "metadata": {},
     "output_type": "execute_result"
    }
   ],
   "source": [
    "df.head()"
   ]
  },
  {
   "cell_type": "markdown",
   "id": "0b18f925",
   "metadata": {
    "papermill": {
     "duration": 0.029507,
     "end_time": "2023-12-22T12:04:05.625956",
     "exception": false,
     "start_time": "2023-12-22T12:04:05.596449",
     "status": "completed"
    },
    "tags": []
   },
   "source": [
    "## Split The Data"
   ]
  },
  {
   "cell_type": "code",
   "execution_count": 25,
   "id": "06001fca",
   "metadata": {
    "execution": {
     "iopub.execute_input": "2023-12-22T12:04:05.688350Z",
     "iopub.status.busy": "2023-12-22T12:04:05.687497Z",
     "iopub.status.idle": "2023-12-22T12:04:05.693921Z",
     "shell.execute_reply": "2023-12-22T12:04:05.693098Z"
    },
    "papermill": {
     "duration": 0.040032,
     "end_time": "2023-12-22T12:04:05.696270",
     "exception": false,
     "start_time": "2023-12-22T12:04:05.656238",
     "status": "completed"
    },
    "tags": []
   },
   "outputs": [],
   "source": [
    "x = df.drop('label',axis=1)\n",
    "y = df['label']"
   ]
  },
  {
   "cell_type": "code",
   "execution_count": 26,
   "id": "bbc4c8be",
   "metadata": {
    "execution": {
     "iopub.execute_input": "2023-12-22T12:04:05.758549Z",
     "iopub.status.busy": "2023-12-22T12:04:05.757445Z",
     "iopub.status.idle": "2023-12-22T12:04:05.766644Z",
     "shell.execute_reply": "2023-12-22T12:04:05.765861Z"
    },
    "papermill": {
     "duration": 0.043061,
     "end_time": "2023-12-22T12:04:05.769110",
     "exception": false,
     "start_time": "2023-12-22T12:04:05.726049",
     "status": "completed"
    },
    "tags": []
   },
   "outputs": [
    {
     "name": "stdout",
     "output_type": "stream",
     "text": [
      "(1760, 7)\n",
      "(440, 7)\n",
      "(1760,)\n",
      "(440,)\n"
     ]
    }
   ],
   "source": [
    "x_train,x_test,y_train,y_test = train_test_split(x,y,test_size=0.20,shuffle=True)\n",
    "print(x_train.shape)\n",
    "print(x_test.shape)\n",
    "print(y_train.shape)\n",
    "print(y_test.shape)"
   ]
  },
  {
   "cell_type": "markdown",
   "id": "c5da3506",
   "metadata": {
    "papermill": {
     "duration": 0.030564,
     "end_time": "2023-12-22T12:04:05.830181",
     "exception": false,
     "start_time": "2023-12-22T12:04:05.799617",
     "status": "completed"
    },
    "tags": []
   },
   "source": [
    "## Build Model"
   ]
  },
  {
   "cell_type": "code",
   "execution_count": 30,
   "id": "07a20e47",
   "metadata": {
    "execution": {
     "iopub.execute_input": "2023-12-22T12:04:05.892674Z",
     "iopub.status.busy": "2023-12-22T12:04:05.892004Z",
     "iopub.status.idle": "2023-12-22T12:04:06.381883Z",
     "shell.execute_reply": "2023-12-22T12:04:06.380666Z"
    },
    "papermill": {
     "duration": 0.524324,
     "end_time": "2023-12-22T12:04:06.384393",
     "exception": false,
     "start_time": "2023-12-22T12:04:05.860069",
     "status": "completed"
    },
    "tags": []
   },
   "outputs": [
    {
     "data": {
      "text/html": [
       "<style>#sk-container-id-2 {\n",
       "  /* Definition of color scheme common for light and dark mode */\n",
       "  --sklearn-color-text: black;\n",
       "  --sklearn-color-line: gray;\n",
       "  /* Definition of color scheme for unfitted estimators */\n",
       "  --sklearn-color-unfitted-level-0: #fff5e6;\n",
       "  --sklearn-color-unfitted-level-1: #f6e4d2;\n",
       "  --sklearn-color-unfitted-level-2: #ffe0b3;\n",
       "  --sklearn-color-unfitted-level-3: chocolate;\n",
       "  /* Definition of color scheme for fitted estimators */\n",
       "  --sklearn-color-fitted-level-0: #f0f8ff;\n",
       "  --sklearn-color-fitted-level-1: #d4ebff;\n",
       "  --sklearn-color-fitted-level-2: #b3dbfd;\n",
       "  --sklearn-color-fitted-level-3: cornflowerblue;\n",
       "\n",
       "  /* Specific color for light theme */\n",
       "  --sklearn-color-text-on-default-background: var(--sg-text-color, var(--theme-code-foreground, var(--jp-content-font-color1, black)));\n",
       "  --sklearn-color-background: var(--sg-background-color, var(--theme-background, var(--jp-layout-color0, white)));\n",
       "  --sklearn-color-border-box: var(--sg-text-color, var(--theme-code-foreground, var(--jp-content-font-color1, black)));\n",
       "  --sklearn-color-icon: #696969;\n",
       "\n",
       "  @media (prefers-color-scheme: dark) {\n",
       "    /* Redefinition of color scheme for dark theme */\n",
       "    --sklearn-color-text-on-default-background: var(--sg-text-color, var(--theme-code-foreground, var(--jp-content-font-color1, white)));\n",
       "    --sklearn-color-background: var(--sg-background-color, var(--theme-background, var(--jp-layout-color0, #111)));\n",
       "    --sklearn-color-border-box: var(--sg-text-color, var(--theme-code-foreground, var(--jp-content-font-color1, white)));\n",
       "    --sklearn-color-icon: #878787;\n",
       "  }\n",
       "}\n",
       "\n",
       "#sk-container-id-2 {\n",
       "  color: var(--sklearn-color-text);\n",
       "}\n",
       "\n",
       "#sk-container-id-2 pre {\n",
       "  padding: 0;\n",
       "}\n",
       "\n",
       "#sk-container-id-2 input.sk-hidden--visually {\n",
       "  border: 0;\n",
       "  clip: rect(1px 1px 1px 1px);\n",
       "  clip: rect(1px, 1px, 1px, 1px);\n",
       "  height: 1px;\n",
       "  margin: -1px;\n",
       "  overflow: hidden;\n",
       "  padding: 0;\n",
       "  position: absolute;\n",
       "  width: 1px;\n",
       "}\n",
       "\n",
       "#sk-container-id-2 div.sk-dashed-wrapped {\n",
       "  border: 1px dashed var(--sklearn-color-line);\n",
       "  margin: 0 0.4em 0.5em 0.4em;\n",
       "  box-sizing: border-box;\n",
       "  padding-bottom: 0.4em;\n",
       "  background-color: var(--sklearn-color-background);\n",
       "}\n",
       "\n",
       "#sk-container-id-2 div.sk-container {\n",
       "  /* jupyter's `normalize.less` sets `[hidden] { display: none; }`\n",
       "     but bootstrap.min.css set `[hidden] { display: none !important; }`\n",
       "     so we also need the `!important` here to be able to override the\n",
       "     default hidden behavior on the sphinx rendered scikit-learn.org.\n",
       "     See: https://github.com/scikit-learn/scikit-learn/issues/21755 */\n",
       "  display: inline-block !important;\n",
       "  position: relative;\n",
       "}\n",
       "\n",
       "#sk-container-id-2 div.sk-text-repr-fallback {\n",
       "  display: none;\n",
       "}\n",
       "\n",
       "div.sk-parallel-item,\n",
       "div.sk-serial,\n",
       "div.sk-item {\n",
       "  /* draw centered vertical line to link estimators */\n",
       "  background-image: linear-gradient(var(--sklearn-color-text-on-default-background), var(--sklearn-color-text-on-default-background));\n",
       "  background-size: 2px 100%;\n",
       "  background-repeat: no-repeat;\n",
       "  background-position: center center;\n",
       "}\n",
       "\n",
       "/* Parallel-specific style estimator block */\n",
       "\n",
       "#sk-container-id-2 div.sk-parallel-item::after {\n",
       "  content: \"\";\n",
       "  width: 100%;\n",
       "  border-bottom: 2px solid var(--sklearn-color-text-on-default-background);\n",
       "  flex-grow: 1;\n",
       "}\n",
       "\n",
       "#sk-container-id-2 div.sk-parallel {\n",
       "  display: flex;\n",
       "  align-items: stretch;\n",
       "  justify-content: center;\n",
       "  background-color: var(--sklearn-color-background);\n",
       "  position: relative;\n",
       "}\n",
       "\n",
       "#sk-container-id-2 div.sk-parallel-item {\n",
       "  display: flex;\n",
       "  flex-direction: column;\n",
       "}\n",
       "\n",
       "#sk-container-id-2 div.sk-parallel-item:first-child::after {\n",
       "  align-self: flex-end;\n",
       "  width: 50%;\n",
       "}\n",
       "\n",
       "#sk-container-id-2 div.sk-parallel-item:last-child::after {\n",
       "  align-self: flex-start;\n",
       "  width: 50%;\n",
       "}\n",
       "\n",
       "#sk-container-id-2 div.sk-parallel-item:only-child::after {\n",
       "  width: 0;\n",
       "}\n",
       "\n",
       "/* Serial-specific style estimator block */\n",
       "\n",
       "#sk-container-id-2 div.sk-serial {\n",
       "  display: flex;\n",
       "  flex-direction: column;\n",
       "  align-items: center;\n",
       "  background-color: var(--sklearn-color-background);\n",
       "  padding-right: 1em;\n",
       "  padding-left: 1em;\n",
       "}\n",
       "\n",
       "\n",
       "/* Toggleable style: style used for estimator/Pipeline/ColumnTransformer box that is\n",
       "clickable and can be expanded/collapsed.\n",
       "- Pipeline and ColumnTransformer use this feature and define the default style\n",
       "- Estimators will overwrite some part of the style using the `sk-estimator` class\n",
       "*/\n",
       "\n",
       "/* Pipeline and ColumnTransformer style (default) */\n",
       "\n",
       "#sk-container-id-2 div.sk-toggleable {\n",
       "  /* Default theme specific background. It is overwritten whether we have a\n",
       "  specific estimator or a Pipeline/ColumnTransformer */\n",
       "  background-color: var(--sklearn-color-background);\n",
       "}\n",
       "\n",
       "/* Toggleable label */\n",
       "#sk-container-id-2 label.sk-toggleable__label {\n",
       "  cursor: pointer;\n",
       "  display: block;\n",
       "  width: 100%;\n",
       "  margin-bottom: 0;\n",
       "  padding: 0.5em;\n",
       "  box-sizing: border-box;\n",
       "  text-align: center;\n",
       "}\n",
       "\n",
       "#sk-container-id-2 label.sk-toggleable__label-arrow:before {\n",
       "  /* Arrow on the left of the label */\n",
       "  content: \"▸\";\n",
       "  float: left;\n",
       "  margin-right: 0.25em;\n",
       "  color: var(--sklearn-color-icon);\n",
       "}\n",
       "\n",
       "#sk-container-id-2 label.sk-toggleable__label-arrow:hover:before {\n",
       "  color: var(--sklearn-color-text);\n",
       "}\n",
       "\n",
       "/* Toggleable content - dropdown */\n",
       "\n",
       "#sk-container-id-2 div.sk-toggleable__content {\n",
       "  max-height: 0;\n",
       "  max-width: 0;\n",
       "  overflow: hidden;\n",
       "  text-align: left;\n",
       "  /* unfitted */\n",
       "  background-color: var(--sklearn-color-unfitted-level-0);\n",
       "}\n",
       "\n",
       "#sk-container-id-2 div.sk-toggleable__content.fitted {\n",
       "  /* fitted */\n",
       "  background-color: var(--sklearn-color-fitted-level-0);\n",
       "}\n",
       "\n",
       "#sk-container-id-2 div.sk-toggleable__content pre {\n",
       "  margin: 0.2em;\n",
       "  border-radius: 0.25em;\n",
       "  color: var(--sklearn-color-text);\n",
       "  /* unfitted */\n",
       "  background-color: var(--sklearn-color-unfitted-level-0);\n",
       "}\n",
       "\n",
       "#sk-container-id-2 div.sk-toggleable__content.fitted pre {\n",
       "  /* unfitted */\n",
       "  background-color: var(--sklearn-color-fitted-level-0);\n",
       "}\n",
       "\n",
       "#sk-container-id-2 input.sk-toggleable__control:checked~div.sk-toggleable__content {\n",
       "  /* Expand drop-down */\n",
       "  max-height: 200px;\n",
       "  max-width: 100%;\n",
       "  overflow: auto;\n",
       "}\n",
       "\n",
       "#sk-container-id-2 input.sk-toggleable__control:checked~label.sk-toggleable__label-arrow:before {\n",
       "  content: \"▾\";\n",
       "}\n",
       "\n",
       "/* Pipeline/ColumnTransformer-specific style */\n",
       "\n",
       "#sk-container-id-2 div.sk-label input.sk-toggleable__control:checked~label.sk-toggleable__label {\n",
       "  color: var(--sklearn-color-text);\n",
       "  background-color: var(--sklearn-color-unfitted-level-2);\n",
       "}\n",
       "\n",
       "#sk-container-id-2 div.sk-label.fitted input.sk-toggleable__control:checked~label.sk-toggleable__label {\n",
       "  background-color: var(--sklearn-color-fitted-level-2);\n",
       "}\n",
       "\n",
       "/* Estimator-specific style */\n",
       "\n",
       "/* Colorize estimator box */\n",
       "#sk-container-id-2 div.sk-estimator input.sk-toggleable__control:checked~label.sk-toggleable__label {\n",
       "  /* unfitted */\n",
       "  background-color: var(--sklearn-color-unfitted-level-2);\n",
       "}\n",
       "\n",
       "#sk-container-id-2 div.sk-estimator.fitted input.sk-toggleable__control:checked~label.sk-toggleable__label {\n",
       "  /* fitted */\n",
       "  background-color: var(--sklearn-color-fitted-level-2);\n",
       "}\n",
       "\n",
       "#sk-container-id-2 div.sk-label label.sk-toggleable__label,\n",
       "#sk-container-id-2 div.sk-label label {\n",
       "  /* The background is the default theme color */\n",
       "  color: var(--sklearn-color-text-on-default-background);\n",
       "}\n",
       "\n",
       "/* On hover, darken the color of the background */\n",
       "#sk-container-id-2 div.sk-label:hover label.sk-toggleable__label {\n",
       "  color: var(--sklearn-color-text);\n",
       "  background-color: var(--sklearn-color-unfitted-level-2);\n",
       "}\n",
       "\n",
       "/* Label box, darken color on hover, fitted */\n",
       "#sk-container-id-2 div.sk-label.fitted:hover label.sk-toggleable__label.fitted {\n",
       "  color: var(--sklearn-color-text);\n",
       "  background-color: var(--sklearn-color-fitted-level-2);\n",
       "}\n",
       "\n",
       "/* Estimator label */\n",
       "\n",
       "#sk-container-id-2 div.sk-label label {\n",
       "  font-family: monospace;\n",
       "  font-weight: bold;\n",
       "  display: inline-block;\n",
       "  line-height: 1.2em;\n",
       "}\n",
       "\n",
       "#sk-container-id-2 div.sk-label-container {\n",
       "  text-align: center;\n",
       "}\n",
       "\n",
       "/* Estimator-specific */\n",
       "#sk-container-id-2 div.sk-estimator {\n",
       "  font-family: monospace;\n",
       "  border: 1px dotted var(--sklearn-color-border-box);\n",
       "  border-radius: 0.25em;\n",
       "  box-sizing: border-box;\n",
       "  margin-bottom: 0.5em;\n",
       "  /* unfitted */\n",
       "  background-color: var(--sklearn-color-unfitted-level-0);\n",
       "}\n",
       "\n",
       "#sk-container-id-2 div.sk-estimator.fitted {\n",
       "  /* fitted */\n",
       "  background-color: var(--sklearn-color-fitted-level-0);\n",
       "}\n",
       "\n",
       "/* on hover */\n",
       "#sk-container-id-2 div.sk-estimator:hover {\n",
       "  /* unfitted */\n",
       "  background-color: var(--sklearn-color-unfitted-level-2);\n",
       "}\n",
       "\n",
       "#sk-container-id-2 div.sk-estimator.fitted:hover {\n",
       "  /* fitted */\n",
       "  background-color: var(--sklearn-color-fitted-level-2);\n",
       "}\n",
       "\n",
       "/* Specification for estimator info (e.g. \"i\" and \"?\") */\n",
       "\n",
       "/* Common style for \"i\" and \"?\" */\n",
       "\n",
       ".sk-estimator-doc-link,\n",
       "a:link.sk-estimator-doc-link,\n",
       "a:visited.sk-estimator-doc-link {\n",
       "  float: right;\n",
       "  font-size: smaller;\n",
       "  line-height: 1em;\n",
       "  font-family: monospace;\n",
       "  background-color: var(--sklearn-color-background);\n",
       "  border-radius: 1em;\n",
       "  height: 1em;\n",
       "  width: 1em;\n",
       "  text-decoration: none !important;\n",
       "  margin-left: 1ex;\n",
       "  /* unfitted */\n",
       "  border: var(--sklearn-color-unfitted-level-1) 1pt solid;\n",
       "  color: var(--sklearn-color-unfitted-level-1);\n",
       "}\n",
       "\n",
       ".sk-estimator-doc-link.fitted,\n",
       "a:link.sk-estimator-doc-link.fitted,\n",
       "a:visited.sk-estimator-doc-link.fitted {\n",
       "  /* fitted */\n",
       "  border: var(--sklearn-color-fitted-level-1) 1pt solid;\n",
       "  color: var(--sklearn-color-fitted-level-1);\n",
       "}\n",
       "\n",
       "/* On hover */\n",
       "div.sk-estimator:hover .sk-estimator-doc-link:hover,\n",
       ".sk-estimator-doc-link:hover,\n",
       "div.sk-label-container:hover .sk-estimator-doc-link:hover,\n",
       ".sk-estimator-doc-link:hover {\n",
       "  /* unfitted */\n",
       "  background-color: var(--sklearn-color-unfitted-level-3);\n",
       "  color: var(--sklearn-color-background);\n",
       "  text-decoration: none;\n",
       "}\n",
       "\n",
       "div.sk-estimator.fitted:hover .sk-estimator-doc-link.fitted:hover,\n",
       ".sk-estimator-doc-link.fitted:hover,\n",
       "div.sk-label-container:hover .sk-estimator-doc-link.fitted:hover,\n",
       ".sk-estimator-doc-link.fitted:hover {\n",
       "  /* fitted */\n",
       "  background-color: var(--sklearn-color-fitted-level-3);\n",
       "  color: var(--sklearn-color-background);\n",
       "  text-decoration: none;\n",
       "}\n",
       "\n",
       "/* Span, style for the box shown on hovering the info icon */\n",
       ".sk-estimator-doc-link span {\n",
       "  display: none;\n",
       "  z-index: 9999;\n",
       "  position: relative;\n",
       "  font-weight: normal;\n",
       "  right: .2ex;\n",
       "  padding: .5ex;\n",
       "  margin: .5ex;\n",
       "  width: min-content;\n",
       "  min-width: 20ex;\n",
       "  max-width: 50ex;\n",
       "  color: var(--sklearn-color-text);\n",
       "  box-shadow: 2pt 2pt 4pt #999;\n",
       "  /* unfitted */\n",
       "  background: var(--sklearn-color-unfitted-level-0);\n",
       "  border: .5pt solid var(--sklearn-color-unfitted-level-3);\n",
       "}\n",
       "\n",
       ".sk-estimator-doc-link.fitted span {\n",
       "  /* fitted */\n",
       "  background: var(--sklearn-color-fitted-level-0);\n",
       "  border: var(--sklearn-color-fitted-level-3);\n",
       "}\n",
       "\n",
       ".sk-estimator-doc-link:hover span {\n",
       "  display: block;\n",
       "}\n",
       "\n",
       "/* \"?\"-specific style due to the `<a>` HTML tag */\n",
       "\n",
       "#sk-container-id-2 a.estimator_doc_link {\n",
       "  float: right;\n",
       "  font-size: 1rem;\n",
       "  line-height: 1em;\n",
       "  font-family: monospace;\n",
       "  background-color: var(--sklearn-color-background);\n",
       "  border-radius: 1rem;\n",
       "  height: 1rem;\n",
       "  width: 1rem;\n",
       "  text-decoration: none;\n",
       "  /* unfitted */\n",
       "  color: var(--sklearn-color-unfitted-level-1);\n",
       "  border: var(--sklearn-color-unfitted-level-1) 1pt solid;\n",
       "}\n",
       "\n",
       "#sk-container-id-2 a.estimator_doc_link.fitted {\n",
       "  /* fitted */\n",
       "  border: var(--sklearn-color-fitted-level-1) 1pt solid;\n",
       "  color: var(--sklearn-color-fitted-level-1);\n",
       "}\n",
       "\n",
       "/* On hover */\n",
       "#sk-container-id-2 a.estimator_doc_link:hover {\n",
       "  /* unfitted */\n",
       "  background-color: var(--sklearn-color-unfitted-level-3);\n",
       "  color: var(--sklearn-color-background);\n",
       "  text-decoration: none;\n",
       "}\n",
       "\n",
       "#sk-container-id-2 a.estimator_doc_link.fitted:hover {\n",
       "  /* fitted */\n",
       "  background-color: var(--sklearn-color-fitted-level-3);\n",
       "}\n",
       "</style><div id=\"sk-container-id-2\" class=\"sk-top-container\"><div class=\"sk-text-repr-fallback\"><pre>RandomForestClassifier()</pre><b>In a Jupyter environment, please rerun this cell to show the HTML representation or trust the notebook. <br />On GitHub, the HTML representation is unable to render, please try loading this page with nbviewer.org.</b></div><div class=\"sk-container\" hidden><div class=\"sk-item\"><div class=\"sk-estimator fitted sk-toggleable\"><input class=\"sk-toggleable__control sk-hidden--visually\" id=\"sk-estimator-id-2\" type=\"checkbox\" checked><label for=\"sk-estimator-id-2\" class=\"sk-toggleable__label fitted sk-toggleable__label-arrow fitted\">&nbsp;&nbsp;RandomForestClassifier<a class=\"sk-estimator-doc-link fitted\" rel=\"noreferrer\" target=\"_blank\" href=\"https://scikit-learn.org/1.4/modules/generated/sklearn.ensemble.RandomForestClassifier.html\">?<span>Documentation for RandomForestClassifier</span></a><span class=\"sk-estimator-doc-link fitted\">i<span>Fitted</span></span></label><div class=\"sk-toggleable__content fitted\"><pre>RandomForestClassifier()</pre></div> </div></div></div></div>"
      ],
      "text/plain": [
       "RandomForestClassifier()"
      ]
     },
     "execution_count": 30,
     "metadata": {},
     "output_type": "execute_result"
    }
   ],
   "source": [
    "rf_model = RandomForestClassifier()\n",
    "rf_model.fit(x_train,y_train)"
   ]
  },
  {
   "cell_type": "code",
   "execution_count": 31,
   "id": "56d91db1",
   "metadata": {
    "execution": {
     "iopub.execute_input": "2023-12-22T12:04:06.447601Z",
     "iopub.status.busy": "2023-12-22T12:04:06.447227Z",
     "iopub.status.idle": "2023-12-22T12:04:06.478491Z",
     "shell.execute_reply": "2023-12-22T12:04:06.477727Z"
    },
    "papermill": {
     "duration": 0.065741,
     "end_time": "2023-12-22T12:04:06.480871",
     "exception": false,
     "start_time": "2023-12-22T12:04:06.415130",
     "status": "completed"
    },
    "tags": []
   },
   "outputs": [
    {
     "name": "stdout",
     "output_type": "stream",
     "text": [
      "Confusion Matrix:\n",
      " [[19  0  0  0  0  0  0  0  0  0  0  0  0  0  0  0  0  0  0  0  0  0]\n",
      " [ 0 20  0  0  0  0  0  0  0  0  0  0  0  0  0  0  0  0  0  0  0  0]\n",
      " [ 0  0 26  0  0  0  0  0  0  0  0  0  0  0  0  0  0  0  0  0  0  0]\n",
      " [ 0  0  0 19  0  0  0  0  0  0  0  0  0  0  0  0  0  0  0  0  0  0]\n",
      " [ 0  0  0  0 23  0  0  0  0  0  0  0  0  0  0  0  0  0  0  0  0  0]\n",
      " [ 0  0  0  0  0 16  0  0  0  0  0  0  0  0  0  0  0  0  0  0  0  0]\n",
      " [ 0  0  0  0  0  0 20  0  0  0  0  0  0  0  0  0  0  0  0  0  0  0]\n",
      " [ 0  0  0  0  0  0  0 19  0  0  0  0  0  0  0  0  0  0  0  0  0  0]\n",
      " [ 0  0  0  0  0  0  0  0 15  0  0  0  0  0  0  0  0  0  0  0  1  0]\n",
      " [ 0  0  0  0  0  0  0  0  0 17  0  0  0  0  0  0  0  0  0  0  0  0]\n",
      " [ 0  0  0  0  0  0  0  0  0  0 21  0  0  0  0  0  0  0  0  0  0  0]\n",
      " [ 0  0  0  0  0  0  0  0  0  0  0 18  0  0  0  0  0  0  0  0  0  0]\n",
      " [ 0  0  0  0  0  0  0  0  0  0  0  0 17  0  0  0  0  0  0  0  0  0]\n",
      " [ 0  0  0  0  0  0  0  0  0  0  1  0  0 20  0  0  0  0  0  0  0  0]\n",
      " [ 0  0  0  0  0  0  0  0  0  0  0  0  0  0 22  0  0  0  0  0  0  0]\n",
      " [ 0  0  0  0  0  0  0  0  0  0  0  0  0  0  0 18  0  0  0  0  0  0]\n",
      " [ 0  0  0  0  0  0  0  0  0  0  0  0  0  0  0  0 25  0  0  0  0  0]\n",
      " [ 0  0  0  0  0  0  0  0  0  0  0  0  0  0  0  0  0 23  0  0  0  0]\n",
      " [ 0  0  0  0  0  0  0  0  0  0  0  0  0  0  0  0  0  0 17  0  0  0]\n",
      " [ 0  0  0  0  0  0  0  0  0  0  0  0  0  0  0  0  0  0  0 19  0  0]\n",
      " [ 0  0  0  0  0  0  0  0  1  0  0  0  0  0  0  0  0  0  0  0 23  0]\n",
      " [ 0  0  0  0  0  0  0  0  0  0  0  0  0  0  0  0  0  0  0  0  0 20]]\n",
      "\n",
      "Classification Report:\n",
      "               precision    recall  f1-score   support\n",
      "\n",
      "           0       1.00      1.00      1.00        19\n",
      "           1       1.00      1.00      1.00        20\n",
      "           2       1.00      1.00      1.00        26\n",
      "           3       1.00      1.00      1.00        19\n",
      "           4       1.00      1.00      1.00        23\n",
      "           5       1.00      1.00      1.00        16\n",
      "           6       1.00      1.00      1.00        20\n",
      "           7       1.00      1.00      1.00        19\n",
      "           8       0.94      0.94      0.94        16\n",
      "           9       1.00      1.00      1.00        17\n",
      "          10       0.95      1.00      0.98        21\n",
      "          11       1.00      1.00      1.00        18\n",
      "          12       1.00      1.00      1.00        17\n",
      "          13       1.00      0.95      0.98        21\n",
      "          14       1.00      1.00      1.00        22\n",
      "          15       1.00      1.00      1.00        18\n",
      "          16       1.00      1.00      1.00        25\n",
      "          17       1.00      1.00      1.00        23\n",
      "          18       1.00      1.00      1.00        17\n",
      "          19       1.00      1.00      1.00        19\n",
      "          20       0.96      0.96      0.96        24\n",
      "          21       1.00      1.00      1.00        20\n",
      "\n",
      "    accuracy                           0.99       440\n",
      "   macro avg       0.99      0.99      0.99       440\n",
      "weighted avg       0.99      0.99      0.99       440\n",
      "\n"
     ]
    }
   ],
   "source": [
    "y_pred = rf_model.predict(x_test)\n",
    "\n",
    "print(\"Confusion Matrix:\\n\",confusion_matrix(y_test,y_pred))\n",
    "print()\n",
    "print(\"Classification Report:\\n\",classification_report(y_test,y_pred))"
   ]
  },
  {
   "cell_type": "code",
   "execution_count": 32,
   "id": "c5108fb2",
   "metadata": {
    "execution": {
     "iopub.execute_input": "2023-12-22T12:04:36.585865Z",
     "iopub.status.busy": "2023-12-22T12:04:36.585137Z",
     "iopub.status.idle": "2023-12-22T12:04:36.589254Z",
     "shell.execute_reply": "2023-12-22T12:04:36.588474Z"
    },
    "papermill": {
     "duration": 0.039127,
     "end_time": "2023-12-22T12:04:36.591230",
     "exception": false,
     "start_time": "2023-12-22T12:04:36.552103",
     "status": "completed"
    },
    "tags": []
   },
   "outputs": [],
   "source": [
    "import json\n",
    "import pickle\n",
    "import os"
   ]
  },
  {
   "cell_type": "code",
   "execution_count": 33,
   "id": "77320ec2",
   "metadata": {
    "execution": {
     "iopub.execute_input": "2023-12-22T12:04:36.655969Z",
     "iopub.status.busy": "2023-12-22T12:04:36.655271Z",
     "iopub.status.idle": "2023-12-22T12:04:36.660919Z",
     "shell.execute_reply": "2023-12-22T12:04:36.660167Z"
    },
    "papermill": {
     "duration": 0.040748,
     "end_time": "2023-12-22T12:04:36.662889",
     "exception": false,
     "start_time": "2023-12-22T12:04:36.622141",
     "status": "completed"
    },
    "tags": []
   },
   "outputs": [
    {
     "data": {
      "text/plain": [
       "array(['apple', 'banana', 'blackgram', 'chickpea', 'coconut', 'coffee',\n",
       "       'cotton', 'grapes', 'jute', 'kidneybeans', 'lentil', 'maize',\n",
       "       'mango', 'mothbeans', 'mungbean', 'muskmelon', 'orange', 'papaya',\n",
       "       'pigeonpeas', 'pomegranate', 'rice', 'watermelon'], dtype=object)"
      ]
     },
     "execution_count": 33,
     "metadata": {},
     "output_type": "execute_result"
    }
   ],
   "source": [
    "class_labels"
   ]
  },
  {
   "cell_type": "code",
   "execution_count": 34,
   "id": "90c1f5b3",
   "metadata": {
    "execution": {
     "iopub.execute_input": "2023-12-22T12:04:36.728367Z",
     "iopub.status.busy": "2023-12-22T12:04:36.727525Z",
     "iopub.status.idle": "2023-12-22T12:04:36.733658Z",
     "shell.execute_reply": "2023-12-22T12:04:36.732608Z"
    },
    "papermill": {
     "duration": 0.041798,
     "end_time": "2023-12-22T12:04:36.736161",
     "exception": false,
     "start_time": "2023-12-22T12:04:36.694363",
     "status": "completed"
    },
    "tags": []
   },
   "outputs": [
    {
     "name": "stdout",
     "output_type": "stream",
     "text": [
      "{'apple': 0, 'banana': 1, 'blackgram': 2, 'chickpea': 3, 'coconut': 4, 'coffee': 5, 'cotton': 6, 'grapes': 7, 'jute': 8, 'kidneybeans': 9, 'lentil': 10, 'maize': 11, 'mango': 12, 'mothbeans': 13, 'mungbean': 14, 'muskmelon': 15, 'orange': 16, 'papaya': 17, 'pigeonpeas': 18, 'pomegranate': 19, 'rice': 20, 'watermelon': 21}\n"
     ]
    }
   ],
   "source": [
    "label_dict = {}\n",
    "for index,label in enumerate(class_labels):\n",
    "    label_dict[label] = index\n",
    "    \n",
    "print(label_dict)"
   ]
  },
  {
   "cell_type": "code",
   "execution_count": 35,
   "id": "0f5e38cc",
   "metadata": {
    "execution": {
     "iopub.execute_input": "2023-12-22T12:04:36.938922Z",
     "iopub.status.busy": "2023-12-22T12:04:36.938498Z",
     "iopub.status.idle": "2023-12-22T12:04:36.944959Z",
     "shell.execute_reply": "2023-12-22T12:04:36.944174Z"
    },
    "papermill": {
     "duration": 0.041456,
     "end_time": "2023-12-22T12:04:36.947054",
     "exception": false,
     "start_time": "2023-12-22T12:04:36.905598",
     "status": "completed"
    },
    "tags": []
   },
   "outputs": [
    {
     "data": {
      "text/plain": [
       "{'columns': ['N', 'P', 'K', 'temperature', 'humidity', 'ph', 'rainfall']}"
      ]
     },
     "execution_count": 35,
     "metadata": {},
     "output_type": "execute_result"
    }
   ],
   "source": [
    "features_data = {'columns':list(x.columns)}\n",
    "features_data"
   ]
  },
  {
   "cell_type": "code",
   "execution_count": 36,
   "id": "772096b1",
   "metadata": {
    "execution": {
     "iopub.execute_input": "2023-12-22T12:04:37.013232Z",
     "iopub.status.busy": "2023-12-22T12:04:37.012449Z",
     "iopub.status.idle": "2023-12-22T12:04:37.018898Z",
     "shell.execute_reply": "2023-12-22T12:04:37.018131Z"
    },
    "papermill": {
     "duration": 0.042395,
     "end_time": "2023-12-22T12:04:37.021013",
     "exception": false,
     "start_time": "2023-12-22T12:04:36.978618",
     "status": "completed"
    },
    "tags": []
   },
   "outputs": [
    {
     "data": {
      "text/plain": [
       "['N', 'P', 'K', 'temperature', 'humidity', 'ph', 'rainfall']"
      ]
     },
     "execution_count": 36,
     "metadata": {},
     "output_type": "execute_result"
    }
   ],
   "source": [
    "features_data['columns']"
   ]
  },
  {
   "cell_type": "code",
   "execution_count": 39,
   "id": "be691a4f",
   "metadata": {
    "execution": {
     "iopub.execute_input": "2023-12-22T12:04:37.088609Z",
     "iopub.status.busy": "2023-12-22T12:04:37.088026Z",
     "iopub.status.idle": "2023-12-22T12:04:37.272446Z",
     "shell.execute_reply": "2023-12-22T12:04:37.271587Z"
    },
    "papermill": {
     "duration": 0.220999,
     "end_time": "2023-12-22T12:04:37.275051",
     "exception": false,
     "start_time": "2023-12-22T12:04:37.054052",
     "status": "completed"
    },
    "tags": []
   },
   "outputs": [],
   "source": [
    "with open('rf_model.pickle','wb') as file:\n",
    "    pickle.dump(rf_model, file)"
   ]
  },
  {
   "cell_type": "code",
   "execution_count": 40,
   "id": "1ce03ffe",
   "metadata": {
    "execution": {
     "iopub.execute_input": "2023-12-22T12:04:37.344361Z",
     "iopub.status.busy": "2023-12-22T12:04:37.343949Z",
     "iopub.status.idle": "2023-12-22T12:04:37.349617Z",
     "shell.execute_reply": "2023-12-22T12:04:37.348560Z"
    },
    "papermill": {
     "duration": 0.043983,
     "end_time": "2023-12-22T12:04:37.352029",
     "exception": false,
     "start_time": "2023-12-22T12:04:37.308046",
     "status": "completed"
    },
    "tags": []
   },
   "outputs": [],
   "source": [
    "with open('features_data.json','w') as file:\n",
    "    json.dump(features_data,file)"
   ]
  },
  {
   "cell_type": "code",
   "execution_count": 41,
   "id": "3abee89d",
   "metadata": {
    "execution": {
     "iopub.execute_input": "2023-12-22T12:04:37.420777Z",
     "iopub.status.busy": "2023-12-22T12:04:37.419555Z",
     "iopub.status.idle": "2023-12-22T12:04:37.426057Z",
     "shell.execute_reply": "2023-12-22T12:04:37.425047Z"
    },
    "papermill": {
     "duration": 0.043856,
     "end_time": "2023-12-22T12:04:37.428332",
     "exception": false,
     "start_time": "2023-12-22T12:04:37.384476",
     "status": "completed"
    },
    "tags": []
   },
   "outputs": [
    {
     "data": {
      "text/plain": [
       "7"
      ]
     },
     "execution_count": 41,
     "metadata": {},
     "output_type": "execute_result"
    }
   ],
   "source": [
    "len(features_data['columns'])"
   ]
  },
  {
   "cell_type": "markdown",
   "id": "8e2b51e4",
   "metadata": {
    "papermill": {
     "duration": 0.032958,
     "end_time": "2023-12-22T12:04:37.494460",
     "exception": false,
     "start_time": "2023-12-22T12:04:37.461502",
     "status": "completed"
    },
    "tags": []
   },
   "source": [
    "## Taking User Inputs"
   ]
  },
  {
   "cell_type": "code",
   "execution_count": 42,
   "id": "7dd9a7a1",
   "metadata": {
    "execution": {
     "iopub.execute_input": "2023-12-22T12:04:37.563597Z",
     "iopub.status.busy": "2023-12-22T12:04:37.562933Z",
     "iopub.status.idle": "2023-12-22T12:04:37.571718Z",
     "shell.execute_reply": "2023-12-22T12:04:37.570653Z"
    },
    "papermill": {
     "duration": 0.045601,
     "end_time": "2023-12-22T12:04:37.574122",
     "exception": false,
     "start_time": "2023-12-22T12:04:37.528521",
     "status": "completed"
    },
    "tags": []
   },
   "outputs": [
    {
     "data": {
      "text/plain": [
       "N              0.0\n",
       "P              0.0\n",
       "K              0.0\n",
       "temperature    0.0\n",
       "humidity       0.0\n",
       "ph             0.0\n",
       "rainfall       0.0\n",
       "dtype: float64"
      ]
     },
     "execution_count": 42,
     "metadata": {},
     "output_type": "execute_result"
    }
   ],
   "source": [
    "test_series = pd.Series(np.zeros(len(features_data['columns'])),index=features_data['columns'])\n",
    "test_series"
   ]
  },
  {
   "cell_type": "code",
   "execution_count": 43,
   "id": "f25cbe1c",
   "metadata": {
    "execution": {
     "iopub.execute_input": "2023-12-22T12:04:37.644803Z",
     "iopub.status.busy": "2023-12-22T12:04:37.644088Z",
     "iopub.status.idle": "2023-12-22T12:04:37.653417Z",
     "shell.execute_reply": "2023-12-22T12:04:37.652248Z"
    },
    "papermill": {
     "duration": 0.048836,
     "end_time": "2023-12-22T12:04:37.655948",
     "exception": false,
     "start_time": "2023-12-22T12:04:37.607112",
     "status": "completed"
    },
    "tags": []
   },
   "outputs": [
    {
     "data": {
      "text/plain": [
       "N               90.0\n",
       "P               42.0\n",
       "K               43.0\n",
       "temperature     25.0\n",
       "humidity        86.0\n",
       "ph               6.5\n",
       "rainfall       220.0\n",
       "dtype: float64"
      ]
     },
     "execution_count": 43,
     "metadata": {},
     "output_type": "execute_result"
    }
   ],
   "source": [
    "test_series['N'] = 90\n",
    "test_series['P'] = 42\n",
    "test_series['K'] = 43\n",
    "test_series['temperature'] = 25\n",
    "test_series['humidity'] = 86\n",
    "test_series['ph'] = 6.5\n",
    "test_series['rainfall'] = 220\n",
    "\n",
    "test_series"
   ]
  },
  {
   "cell_type": "code",
   "execution_count": 45,
   "id": "0f75d291",
   "metadata": {
    "execution": {
     "iopub.execute_input": "2023-12-22T12:04:37.724342Z",
     "iopub.status.busy": "2023-12-22T12:04:37.723932Z",
     "iopub.status.idle": "2023-12-22T12:04:37.744628Z",
     "shell.execute_reply": "2023-12-22T12:04:37.743369Z"
    },
    "papermill": {
     "duration": 0.058918,
     "end_time": "2023-12-22T12:04:37.747883",
     "exception": false,
     "start_time": "2023-12-22T12:04:37.688965",
     "status": "completed"
    },
    "tags": []
   },
   "outputs": [
    {
     "name": "stdout",
     "output_type": "stream",
     "text": [
      "Recommended Crop: rice\n"
     ]
    },
    {
     "name": "stderr",
     "output_type": "stream",
     "text": [
      "C:\\Users\\dgoya\\anaconda3\\Lib\\site-packages\\sklearn\\base.py:493: UserWarning: X does not have valid feature names, but RandomForestClassifier was fitted with feature names\n",
      "  warnings.warn(\n"
     ]
    }
   ],
   "source": [
    "output = rf_model.predict([test_series])[0]\n",
    "print(\"Recommended Crop:\",class_labels[output])"
   ]
  },
  {
   "cell_type": "code",
   "execution_count": null,
   "id": "a4d4b4f0",
   "metadata": {
    "papermill": {
     "duration": 0.033387,
     "end_time": "2023-12-22T12:04:37.814290",
     "exception": false,
     "start_time": "2023-12-22T12:04:37.780903",
     "status": "completed"
    },
    "tags": []
   },
   "outputs": [],
   "source": []
  },
  {
   "cell_type": "code",
   "execution_count": null,
   "id": "d99aa1ca",
   "metadata": {},
   "outputs": [],
   "source": []
  }
 ],
 "metadata": {
  "kaggle": {
   "accelerator": "none",
   "dataSources": [
    {
     "datasetId": 1046158,
     "sourceId": 1760012,
     "sourceType": "datasetVersion"
    }
   ],
   "dockerImageVersionId": 30626,
   "isGpuEnabled": false,
   "isInternetEnabled": true,
   "language": "python",
   "sourceType": "notebook"
  },
  "kernelspec": {
   "display_name": "Python 3 (ipykernel)",
   "language": "python",
   "name": "python3"
  },
  "language_info": {
   "codemirror_mode": {
    "name": "ipython",
    "version": 3
   },
   "file_extension": ".py",
   "mimetype": "text/x-python",
   "name": "python",
   "nbconvert_exporter": "python",
   "pygments_lexer": "ipython3",
   "version": "3.11.5"
  },
  "papermill": {
   "default_parameters": {},
   "duration": 48.716227,
   "end_time": "2023-12-22T12:04:38.570904",
   "environment_variables": {},
   "exception": null,
   "input_path": "__notebook__.ipynb",
   "output_path": "__notebook__.ipynb",
   "parameters": {},
   "start_time": "2023-12-22T12:03:49.854677",
   "version": "2.4.0"
  }
 },
 "nbformat": 4,
 "nbformat_minor": 5
}
