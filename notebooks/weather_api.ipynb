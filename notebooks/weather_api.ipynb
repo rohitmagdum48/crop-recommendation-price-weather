{
 "cells": [
  {
   "cell_type": "code",
   "execution_count": 1,
   "id": "58e10df6",
   "metadata": {},
   "outputs": [
    {
     "name": "stdout",
     "output_type": "stream",
     "text": [
      "Enter the name of the city you want weather forecast for: Jaipur\n",
      "Enter the number of days after which you want the weather forecast: 3\n",
      "\n",
      "Weather forecast for Jaipur after 3 days (2024-05-14):\n",
      "Temperature: 34.8°C\n",
      "Weather Condition: Sunny\n"
     ]
    }
   ],
   "source": [
    "import requests\n",
    "\n",
    "# List of major cities in India\n",
    "indian_cities = [\n",
    "    \"Jaipur\", \"Mumbai\", \"Delhi\", \"Kolkata\", \"Chennai\", \n",
    "    \"Bangalore\", \"Hyderabad\", \"Pune\", \"Ahmedabad\", \"Surat\", \n",
    "    \"Lucknow\", \"Nagpur\", \"Indore\", \"Bhopal\", \"Patna\", \n",
    "    \"Vadodara\", \"Ghaziabad\", \"Ludhiana\", \"Agra\", \"Varanasi\",\n",
    "    \"Ranchi\", \"Kanpur\", \"Nashik\", \"Coimbatore\", \"Kochi\", \n",
    "    \"Visakhapatnam\", \"Thiruvananthapuram\", \"Amritsar\", \"Vijayawada\", \"Guwahati\", \n",
    "    \"Navi Mumbai\", \"Thane\", \"Bhubaneswar\", \"Dehradun\", \"Bikaner\", \n",
    "    \"Jodhpur\", \"Rajkot\", \"Shimla\", \"Srinagar\", \"Jammu\",\"Sangli\"  \n",
    "]\n",
    "\n",
    "# API endpoint URL\n",
    "url = \"http://api.weatherapi.com/v1/forecast.json\"\n",
    "\n",
    "# Prompt user to select a city\n",
    "# print(\"List of major cities in India:\")\n",
    "# for index, city in enumerate(indian_cities, start=1):\n",
    "#     print(f\"{index}. {city}\")\n",
    "\n",
    "# Get user input for city selection\n",
    "city_name = input(\"Enter the name of the city you want weather forecast for: \")\n",
    "\n",
    "# Validate user input\n",
    "if city_name in indian_cities:\n",
    "    # Get user input for number of days\n",
    "    n_days = input(\"Enter the number of days after which you want the weather forecast: \")\n",
    "    \n",
    "    try:\n",
    "        n_days = int(n_days)\n",
    "        if n_days < 1:\n",
    "            raise ValueError(\"Please enter a positive integer value for the number of days.\")\n",
    "    except ValueError as e:\n",
    "        print(\"Invalid input:\", e)\n",
    "    else:\n",
    "        # Parameters\n",
    "        params = {\n",
    "            \"key\": \"627b10c8fa8b4ff28c190325242904\",\n",
    "            \"q\": city_name + \", India\",  # Specify the selected city name and country\n",
    "            \"days\": n_days + 1,  # Retrieve forecast data for n_days plus 1 to get the forecast for after n_days\n",
    "            \"aqi\": \"no\"  # Exclude air quality data if not needed\n",
    "        }\n",
    "\n",
    "        # Send GET request to the API\n",
    "        response = requests.get(url, params=params)\n",
    "\n",
    "        # Check if request was successful (status code 200)\n",
    "        if response.status_code == 200:\n",
    "            # Parse JSON response\n",
    "            data = response.json()\n",
    "            \n",
    "            # Extract forecast data for after n_days\n",
    "            forecast_after_n_days = data['forecast']['forecastday'][n_days]\n",
    "\n",
    "            # Extract relevant weather information\n",
    "            date = forecast_after_n_days['date']\n",
    "            temperature_celsius = forecast_after_n_days['day']['avgtemp_c']\n",
    "            weather_condition = forecast_after_n_days['day']['condition']['text']\n",
    "\n",
    "            # Print the weather information for after n_days\n",
    "            print(f'\\nWeather forecast for {city_name} after {n_days} days ({date}):')\n",
    "            print(f'Temperature: {temperature_celsius}°C')\n",
    "            print(f'Weather Condition: {weather_condition}')\n",
    "        else:\n",
    "            print('Error:', response.status_code)\n",
    "else:\n",
    "    print(\"Invalid city selection. Please enter a valid city name.\")\n"
   ]
  },
  {
   "cell_type": "code",
   "execution_count": null,
   "id": "2138e631",
   "metadata": {},
   "outputs": [],
   "source": []
  }
 ],
 "metadata": {
  "kernelspec": {
   "display_name": "Python 3 (ipykernel)",
   "language": "python",
   "name": "python3"
  },
  "language_info": {
   "codemirror_mode": {
    "name": "ipython",
    "version": 3
   },
   "file_extension": ".py",
   "mimetype": "text/x-python",
   "name": "python",
   "nbconvert_exporter": "python",
   "pygments_lexer": "ipython3",
   "version": "3.11.5"
  }
 },
 "nbformat": 4,
 "nbformat_minor": 5
}
